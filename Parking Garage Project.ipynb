{
 "cells": [
  {
   "cell_type": "markdown",
   "metadata": {},
   "source": [
    "# Parking Garage Project\n",
    "\n",
    "Your assignment for today is to create a parking garage class to get more familiar with Object Oriented Programming(OOP). \n",
    "\n",
    "Your parking gargage class should have the following methods:\n",
    "- takeTicket\n",
    "   - This should decrease the amount of tickets available by 1\n",
    "   - This should decrease the amount of parkingSpaces available by 1\n",
    "- payForParking\n",
    "   - Display an input that waits for an amount from the user and store it in a variable\n",
    "   - If the payment variable is not empty then ->  display a message to the user that their ticket has been paid and they have 15mins to leave\n",
    "   - This should update the \"currentTicket\" dictionary key \"paid\" to True\n",
    "-leaveGarage\n",
    "   - If the ticket has been paid, display a message of \"Thank You, have a nice day\"\n",
    "   - If the ticket has not been paid, display an input prompt for payment\n",
    "   - Once paid, display message \"Thank you, have a nice day!\"\n",
    "   - Update parkingSpaces list to increase by 1\n",
    "   - Update tickets list to increase by 1\n",
    "\n",
    "You will need a few attributes as well:\n",
    "- tickets -> list\n",
    "- parkingSpaces -> list\n",
    "- currentTicket -> dictionary"
   ]
  },
  {
   "cell_type": "code",
   "execution_count": 6,
   "metadata": {},
   "outputs": [
    {
     "name": "stdout",
     "output_type": "stream",
     "text": [
      "available tickets after taking Ticket:   [1, 2, 3, 4, 5, 6, 7, 8, 9]\n",
      "available parking spaces after taking Ticket:  [1, 2, 3, 4, 5, 6, 7, 8, 9]\n",
      "No amount entered/ Please enter only numbers\n",
      "Thank You, have a nice day\n",
      "available tickets after vehicle leave garage [1, 2, 3, 4, 5, 6, 7, 8, 9, 10]\n",
      "available parkingSpaces after vehicle leave garage [1, 2, 3, 4, 5, 6, 7, 8, 9, 10]\n"
     ]
    }
   ],
   "source": [
    "\n",
    "class ParkingGarage:\n",
    "\n",
    "    def __init__(self):\n",
    "        self.tickets = list(range(1, 11))\n",
    "        self.parkingSpaces = list(range(1, 11))\n",
    "        self.currentTicket = {\"paid\": False}\n",
    "\n",
    "    def takeTicket(self):\n",
    "        self.tickets = self.tickets[:-1]\n",
    "        self.parkingSpaces = self.parkingSpaces[:-1]\n",
    "        print(\"available tickets after taking Ticket:  \", self.tickets)\n",
    "        print(\"available parking spaces after taking Ticket: \",\n",
    "              self.parkingSpaces)\n",
    "\n",
    "    def payForParking(self):\n",
    "        response = input(\"Amount to be paid : \")\n",
    "        if response and response.strip().isdigit():\n",
    "            print(\"Thank you for your payment and kindly leave the parking within 15 minutes\")\n",
    "            self.currentTicket[\"paid\"] = True\n",
    "        else:\n",
    "            print(\"No amount entered/ Please enter only numbers\")\n",
    "\n",
    "    def leaveGarage(self):\n",
    "        if self.currentTicket[\"paid\"]:\n",
    "            print(\"Thank You, have a nice day\")\n",
    "            ticket = self.tickets[-1]\n",
    "            self.tickets.append(ticket+1)\n",
    "            parking_space = self.parkingSpaces[-1]\n",
    "            self.parkingSpaces.append(parking_space+1)\n",
    "            print(\"available tickets after vehicle leave garage\",\n",
    "                      self.tickets)\n",
    "            print(\"available parkingSpaces after vehicle leave garage\",\n",
    "                      self.parkingSpaces)\n",
    "        else:\n",
    "            response = input(\"Amount to be paid : \")\n",
    "            if response and response.strip().isdigit():\n",
    "                self.currentTicket[\"paid\"] = True\n",
    "                self.leaveGarage()\n",
    "                \n",
    "            else:\n",
    "                print(\"No amount entered/ Please enter only numbers\")\n",
    "\n",
    "\n",
    "\n",
    "p1 = ParkingGarage()\n",
    "p1.takeTicket()\n",
    "p1.payForParking()\n",
    "p1.leaveGarage()\n",
    "\n"
   ]
  }
 ],
 "metadata": {
  "kernelspec": {
   "display_name": "Python 3",
   "language": "python",
   "name": "python3"
  },
  "language_info": {
   "codemirror_mode": {
    "name": "ipython",
    "version": 3
   },
   "file_extension": ".py",
   "mimetype": "text/x-python",
   "name": "python",
   "nbconvert_exporter": "python",
   "pygments_lexer": "ipython3",
   "version": "3.10.11"
  }
 },
 "nbformat": 4,
 "nbformat_minor": 2
}
